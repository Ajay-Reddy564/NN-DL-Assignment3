{
 "cells": [
  {
   "cell_type": "code",
   "execution_count": 7,
   "id": "1c33e1f9",
   "metadata": {},
   "outputs": [
    {
     "name": "stdout",
     "output_type": "stream",
     "text": [
      "enter number of employees2\n",
      "enter nameAjay\n",
      "enter how many family members3\n",
      "enter salary80000\n",
      "enter departmentit\n",
      "enter nameMohan\n",
      "enter how many family members4\n",
      "enter salary90000\n",
      "enter departmentece\n",
      "enter Full time employees2\n",
      "enter nameMax\n",
      "enter how many family members5\n",
      "enter salary150000\n",
      "enter departmentCs\n",
      "enter nameTom\n",
      "enter how many family members6\n",
      "enter salary180000\n",
      "enter departmentIt\n",
      "The total Number of Employees(employee+Fulltime employee): 4\n",
      "the average salary of the all the Employees(employee+Fulltime employee): 250000.0\n"
     ]
    }
   ],
   "source": [
    "class Employee: \n",
    "  def __init__(self):  # Creating constructor for name,family,salary and Department.\n",
    "        self.name =\"Ajay\" \n",
    "        self.family =4 \n",
    "        self.salary=80000\n",
    "        self.department=\"ece\" \n",
    "  def __init__(self,name,family,salary,department): \n",
    "        self.name =name \n",
    "        self.family =family \n",
    "        self.salary=salary \n",
    "        self.department=department \n",
    "        \n",
    "  def count_emp(self,emp1,fullemp1): \n",
    "        print(\"The total Number of Employees(employee+Fulltime employee):\",len(emp1+fullemp1)) #counting number of employees.\n",
    "        \n",
    "  def avg_salary(self,emp1,fullemp1):  #the function which we are using for calculating the average salary of the employees\n",
    "       su=0 \n",
    "       for i in emp1: \n",
    "           su=su+i.salary \n",
    "       for i in fullemp1: \n",
    "            su=su+i.salary \n",
    "       print(\"the average salary of the all the Employees(employee+Fulltime employee):\",su/2) \n",
    "        \n",
    "class Fulltime_Employee(Employee): \n",
    "    pass \n",
    "n=int(input(\"enter number of employees\")) \n",
    "pe=[] \n",
    "for i in range(0,n):  #using for() loop\n",
    "    na=input(\"enter name\") \n",
    "    f=int(input(\"enter how many family members\")) \n",
    "    s=int(input(\"enter salary\")) \n",
    "    d=input(\"enter department\") \n",
    "    obj=Employee(na,f,s,d) \n",
    "    pe.append(obj) \n",
    "full=int(input(\"enter Full time employees\")) \n",
    "fe=[] \n",
    "for i in range(0,full): \n",
    "    na=input(\"enter name\") \n",
    "    f=int(input(\"enter how many family members\")) \n",
    "    s=int(input(\"enter salary\")) \n",
    "    d=input(\"enter department\") \n",
    "    obj=Fulltime_Employee(na,f,s,d) \n",
    "    fe.append(obj) \n",
    "    \n",
    "    result=Fulltime_Employee(na,f,s,d)  \n",
    "result.count_emp(pe,fe) #function call\n",
    "result.avg_salary(pe,fe)"
   ]
  },
  {
   "cell_type": "code",
   "execution_count": 4,
   "id": "4fe4eb4c",
   "metadata": {},
   "outputs": [
    {
     "name": "stdout",
     "output_type": "stream",
     "text": [
      "Vector : [ 1.  2.  3.  4.  5.  6.  7.  8.  9. 10. 11. 12. 13. 14. 15. 16. 17. 18.\n",
      " 19. 20.]\n",
      "Then reshape the array to 4 by 5: [[ 1.  2.  3.  4.  5.]\n",
      " [ 6.  7.  8.  9. 10.]\n",
      " [11. 12. 13. 14. 15.]\n",
      " [16. 17. 18. 19. 20.]]\n",
      "replace the max in each row by 0 (axis=1): [[ 1.  2.  3.  4.  0.]\n",
      " [ 6.  7.  8.  9.  0.]\n",
      " [11. 12. 13. 14.  0.]\n",
      " [16. 17. 18. 19.  0.]]\n"
     ]
    }
   ],
   "source": [
    "import numpy as np #importing numpy here\n",
    "x = np.arange(1,21,dtype=float) #vector size 1-20\n",
    "print(\"Vector :\",x) \n",
    "x=x.reshape(4,5) #using the reshape() method to reshape the array from 1 by 20 to 4 by 5\n",
    "print(\"Then reshape the array to 4 by 5:\",x) \n",
    "def replace(x): \n",
    "    a=x \n",
    "    a[:,np.argmax(x, axis=1)] = 0 #replacing the last number in every row with 0\n",
    "    return a \n",
    "result= replace(x) \n",
    "print(\"replace the max in each row by 0 (axis=1):\",result) #printing the final result\n"
   ]
  },
  {
   "cell_type": "code",
   "execution_count": null,
   "id": "cdf47ff4",
   "metadata": {},
   "outputs": [],
   "source": []
  }
 ],
 "metadata": {
  "kernelspec": {
   "display_name": "Python 3 (ipykernel)",
   "language": "python",
   "name": "python3"
  },
  "language_info": {
   "codemirror_mode": {
    "name": "ipython",
    "version": 3
   },
   "file_extension": ".py",
   "mimetype": "text/x-python",
   "name": "python",
   "nbconvert_exporter": "python",
   "pygments_lexer": "ipython3",
   "version": "3.9.12"
  }
 },
 "nbformat": 4,
 "nbformat_minor": 5
}
